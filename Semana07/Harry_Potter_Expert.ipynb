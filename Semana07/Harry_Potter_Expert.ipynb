{
  "cells": [
    {
      "cell_type": "markdown",
      "metadata": {
        "id": "view-in-github",
        "colab_type": "text"
      },
      "source": [
        "<a href=\"https://colab.research.google.com/github/jdmartinev/ST1613-AppliedML-/blob/main/Semana07/Harry_Potter_Expert.ipynb\" target=\"_parent\"><img src=\"https://colab.research.google.com/assets/colab-badge.svg\" alt=\"Open In Colab\"/></a>"
      ]
    },
    {
      "cell_type": "code",
      "execution_count": null,
      "metadata": {
        "colab": {
          "base_uri": "https://localhost:8080/"
        },
        "id": "ikpzY8ExU-Pp",
        "outputId": "08800786-e155-40eb-d869-01d47637d76a"
      },
      "outputs": [
        {
          "output_type": "stream",
          "name": "stdout",
          "text": [
            "\u001b[2K     \u001b[90m━━━━━━━━━━━━━━━━━━━━━━━━━━━━━━━━━━━━━━━━\u001b[0m \u001b[32m1.0/1.0 MB\u001b[0m \u001b[31m9.1 MB/s\u001b[0m eta \u001b[36m0:00:00\u001b[0m\n",
            "\u001b[2K     \u001b[90m━━━━━━━━━━━━━━━━━━━━━━━━━━━━━━━━━━━━━━━━\u001b[0m \u001b[32m2.0/2.0 MB\u001b[0m \u001b[31m34.2 MB/s\u001b[0m eta \u001b[36m0:00:00\u001b[0m\n",
            "\u001b[2K     \u001b[90m━━━━━━━━━━━━━━━━━━━━━━━━━━━━━━━━━━━━━━━━\u001b[0m \u001b[32m302.9/302.9 kB\u001b[0m \u001b[31m22.3 MB/s\u001b[0m eta \u001b[36m0:00:00\u001b[0m\n",
            "\u001b[2K     \u001b[90m━━━━━━━━━━━━━━━━━━━━━━━━━━━━━━━━━━━━━━━━\u001b[0m \u001b[32m121.0/121.0 kB\u001b[0m \u001b[31m10.9 MB/s\u001b[0m eta \u001b[36m0:00:00\u001b[0m\n",
            "\u001b[2K     \u001b[90m━━━━━━━━━━━━━━━━━━━━━━━━━━━━━━━━━━━━━━━━\u001b[0m \u001b[32m49.3/49.3 kB\u001b[0m \u001b[31m3.5 MB/s\u001b[0m eta \u001b[36m0:00:00\u001b[0m\n",
            "\u001b[2K     \u001b[90m━━━━━━━━━━━━━━━━━━━━━━━━━━━━━━━━━━━━━━━━\u001b[0m \u001b[32m53.0/53.0 kB\u001b[0m \u001b[31m5.2 MB/s\u001b[0m eta \u001b[36m0:00:00\u001b[0m\n",
            "\u001b[2K     \u001b[90m━━━━━━━━━━━━━━━━━━━━━━━━━━━━━━━━━━━━━━━━\u001b[0m \u001b[32m142.5/142.5 kB\u001b[0m \u001b[31m4.8 MB/s\u001b[0m eta \u001b[36m0:00:00\u001b[0m\n",
            "\u001b[2K     \u001b[90m━━━━━━━━━━━━━━━━━━━━━━━━━━━━━━━━━━━━━━━━\u001b[0m \u001b[32m171.5/171.5 kB\u001b[0m \u001b[31m4.9 MB/s\u001b[0m eta \u001b[36m0:00:00\u001b[0m\n",
            "\u001b[2K     \u001b[90m━━━━━━━━━━━━━━━━━━━━━━━━━━━━━━━━━━━━━━━━\u001b[0m \u001b[32m542.0/542.0 kB\u001b[0m \u001b[31m7.3 MB/s\u001b[0m eta \u001b[36m0:00:00\u001b[0m\n",
            "\u001b[2K     \u001b[90m━━━━━━━━━━━━━━━━━━━━━━━━━━━━━━━━━━━━━━━━\u001b[0m \u001b[32m116.3/116.3 kB\u001b[0m \u001b[31m13.6 MB/s\u001b[0m eta \u001b[36m0:00:00\u001b[0m\n",
            "\u001b[2K     \u001b[90m━━━━━━━━━━━━━━━━━━━━━━━━━━━━━━━━━━━━━━━━\u001b[0m \u001b[32m194.1/194.1 kB\u001b[0m \u001b[31m20.1 MB/s\u001b[0m eta \u001b[36m0:00:00\u001b[0m\n",
            "\u001b[2K     \u001b[90m━━━━━━━━━━━━━━━━━━━━━━━━━━━━━━━━━━━━━━━━\u001b[0m \u001b[32m134.8/134.8 kB\u001b[0m \u001b[31m15.5 MB/s\u001b[0m eta \u001b[36m0:00:00\u001b[0m\n",
            "\u001b[2K     \u001b[90m━━━━━━━━━━━━━━━━━━━━━━━━━━━━━━━━━━━━━━━━\u001b[0m \u001b[32m401.2/401.2 kB\u001b[0m \u001b[31m39.0 MB/s\u001b[0m eta \u001b[36m0:00:00\u001b[0m\n",
            "\u001b[2K     \u001b[90m━━━━━━━━━━━━━━━━━━━━━━━━━━━━━━━━━━━━━━━━\u001b[0m \u001b[32m27.0/27.0 MB\u001b[0m \u001b[31m54.4 MB/s\u001b[0m eta \u001b[36m0:00:00\u001b[0m\n",
            "\u001b[2K     \u001b[90m━━━━━━━━━━━━━━━━━━━━━━━━━━━━━━━━━━━━━━━━\u001b[0m \u001b[32m290.4/290.4 kB\u001b[0m \u001b[31m5.5 MB/s\u001b[0m eta \u001b[36m0:00:00\u001b[0m\n",
            "\u001b[?25hRequirement already satisfied: tqdm in /usr/local/lib/python3.10/dist-packages (4.66.4)\n"
          ]
        }
      ],
      "source": [
        "!pip install -q langchain\n",
        "!pip install -q torch\n",
        "!pip install -q transformers\n",
        "!pip install -q sentence-transformers\n",
        "!pip install -q datasets\n",
        "!pip install -q faiss-cpu\n",
        "!pip install -q pypdf\n",
        "!pip install tqdm"
      ]
    },
    {
      "cell_type": "code",
      "execution_count": null,
      "metadata": {
        "id": "QM-t8NSHVKyp"
      },
      "outputs": [],
      "source": [
        "from langchain.document_loaders import HuggingFaceDatasetLoader\n",
        "from langchain.text_splitter import RecursiveCharacterTextSplitter\n",
        "from langchain.embeddings import HuggingFaceEmbeddings\n",
        "from langchain.vectorstores import FAISS\n",
        "from transformers import AutoTokenizer, AutoModelForQuestionAnswering\n",
        "from transformers import AutoTokenizer, pipeline\n",
        "from langchain import HuggingFacePipeline\n",
        "from langchain.chains import RetrievalQA\n",
        "import torch\n",
        "from langchain import PromptTemplate, LLMChain\n",
        "\n",
        "from transformers import (\n",
        "    AutoTokenizer,\n",
        "    AutoModelForSeq2SeqLM,\n",
        "    pipeline,\n",
        "    AutoModelForCausalLM\n",
        "    )\n"
      ]
    },
    {
      "cell_type": "code",
      "execution_count": null,
      "metadata": {
        "id": "iIb1UTUeXZ0c",
        "colab": {
          "base_uri": "https://localhost:8080/"
        },
        "outputId": "c3582e41-f08b-4328-85ae-9e11b82ddd21"
      },
      "outputs": [
        {
          "output_type": "stream",
          "name": "stdout",
          "text": [
            "cuda\n"
          ]
        }
      ],
      "source": [
        "device = torch.device(\"cuda\" if torch.cuda.is_available() else \"cpu\")\n",
        "print(device)\n",
        "\n",
        "def print_lines(text, max_ch = 50):\n",
        "  current_line = \"\"\n",
        "  words = text.split()\n",
        "  i = 0\n",
        "  while i < len(words):\n",
        "    if len(current_line) > 50:\n",
        "      print(current_line)\n",
        "      current_line = \"\"\n",
        "    else:\n",
        "      current_line += f\"{words[i]} \"\n",
        "      i+=1\n",
        "  if current_line:\n",
        "    print(current_line)"
      ]
    },
    {
      "cell_type": "markdown",
      "metadata": {
        "id": "BIaV2mVIXcAQ"
      },
      "source": [
        "# Datasets"
      ]
    },
    {
      "cell_type": "code",
      "source": [
        "!wget --no-check-certificate 'https://docs.google.com/uc?export=download&id=1YcNlffQl6E09Erst__EZvlC0iJRgy6LF' -O libros.zip\n",
        "!unzip libros.zip -d ./libros"
      ],
      "metadata": {
        "colab": {
          "base_uri": "https://localhost:8080/"
        },
        "id": "5IV61IkPyIrj",
        "outputId": "714763ad-4d7f-466d-9f55-e2d319ffa9b8"
      },
      "execution_count": null,
      "outputs": [
        {
          "output_type": "stream",
          "name": "stdout",
          "text": [
            "--2024-05-14 16:37:48--  https://docs.google.com/uc?export=download&id=1YcNlffQl6E09Erst__EZvlC0iJRgy6LF\n",
            "Resolving docs.google.com (docs.google.com)... 64.233.170.100, 64.233.170.102, 64.233.170.113, ...\n",
            "Connecting to docs.google.com (docs.google.com)|64.233.170.100|:443... connected.\n",
            "HTTP request sent, awaiting response... 303 See Other\n",
            "Location: https://drive.usercontent.google.com/download?id=1YcNlffQl6E09Erst__EZvlC0iJRgy6LF&export=download [following]\n",
            "--2024-05-14 16:37:48--  https://drive.usercontent.google.com/download?id=1YcNlffQl6E09Erst__EZvlC0iJRgy6LF&export=download\n",
            "Resolving drive.usercontent.google.com (drive.usercontent.google.com)... 142.251.12.132, 2404:6800:4003:c11::84\n",
            "Connecting to drive.usercontent.google.com (drive.usercontent.google.com)|142.251.12.132|:443... connected.\n",
            "HTTP request sent, awaiting response... 200 OK\n",
            "Length: 20809441 (20M) [application/octet-stream]\n",
            "Saving to: ‘libros.zip’\n",
            "\n",
            "libros.zip          100%[===================>]  19.84M  30.8MB/s    in 0.6s    \n",
            "\n",
            "2024-05-14 16:37:54 (30.8 MB/s) - ‘libros.zip’ saved [20809441/20809441]\n",
            "\n",
            "Archive:  libros.zip\n",
            "replace ./libros/Harry Potter - Book 3 - The Prisoner of Azkaban.pdf? [y]es, [n]o, [A]ll, [N]one, [r]ename: "
          ]
        }
      ]
    },
    {
      "cell_type": "markdown",
      "metadata": {
        "id": "CDDXKrLEXqZS"
      },
      "source": [
        "## Leer documentos"
      ]
    },
    {
      "cell_type": "code",
      "execution_count": null,
      "metadata": {
        "colab": {
          "base_uri": "https://localhost:8080/"
        },
        "id": "iRSYcU4v3Zxh",
        "outputId": "ce85dbef-1194-4938-b6de-36f670d187b6"
      },
      "outputs": [
        {
          "output_type": "execute_result",
          "data": {
            "text/plain": [
              "['Harry Potter - Book 7 - The Deathly Hallows.pdf',\n",
              " 'Harry Potter - Book 5 - The Order of the Phoenix.pdf',\n",
              " 'Harry Potter - Book 6 - The Half-Blood Prince.pdf',\n",
              " 'Harry Potter - Book 1 - The Sorcerers Stone.pdf',\n",
              " 'Harry Potter - Book 3 - The Prisoner of Azkaban.pdf',\n",
              " 'Harry Potter - Book 2 - The Chamber of Secrets.pdf',\n",
              " 'Harry Potter - Book 4 - The Goblet of Fire.pdf']"
            ]
          },
          "metadata": {},
          "execution_count": 19
        }
      ],
      "source": [
        "import os\n",
        "path_docs = \"./libros\"\n",
        "\n",
        "os.listdir(path_docs)"
      ]
    },
    {
      "cell_type": "code",
      "execution_count": null,
      "metadata": {
        "id": "NOK1zFJXOdA_"
      },
      "outputs": [],
      "source": [
        "list_pdf = [x for x in os.listdir(path_docs) if x.endswith(\".pdf\")]"
      ]
    },
    {
      "cell_type": "code",
      "execution_count": null,
      "metadata": {
        "colab": {
          "base_uri": "https://localhost:8080/",
          "height": 49,
          "referenced_widgets": [
            "d5a047a68f844a9dac7b9bacba1f780d",
            "6cb61235e07544448bad8afa603af790",
            "ad55e939712d4fa9a4cb138e87a62384",
            "de5eddf5eb6a4d66a101f59286733ba8",
            "5fb1b8a89bde4035a8de7fe86301d5fe",
            "0f96a2abcb79452c92ef9cc19705a454",
            "7ceacded3621435494743166010085f6",
            "e0560e46f807409d935dd4fb53421cc1",
            "495eda8bbc6d4a11a3f81861a29d1157",
            "9679e7a1a2f9420c88a1908c4c47dcd2",
            "1add3b1e98e2441492bf997080167a5a"
          ]
        },
        "id": "lLI6m6q9WmNU",
        "outputId": "885d36d5-bbf0-4146-a171-828652925f98"
      },
      "outputs": [
        {
          "output_type": "display_data",
          "data": {
            "text/plain": [
              "  0%|          | 0/7 [00:00<?, ?it/s]"
            ],
            "application/vnd.jupyter.widget-view+json": {
              "version_major": 2,
              "version_minor": 0,
              "model_id": "d5a047a68f844a9dac7b9bacba1f780d"
            }
          },
          "metadata": {}
        }
      ],
      "source": [
        "# Document Transformers\n",
        "from tqdm.notebook import tqdm\n",
        "from langchain.document_loaders import PyPDFLoader\n",
        "\n",
        "chunk_size = 1000\n",
        "chunk_overlap = 200\n",
        "\n",
        "all_docs = []\n",
        "text_splitter = RecursiveCharacterTextSplitter(\n",
        "    chunk_size=chunk_size,\n",
        "    chunk_overlap=chunk_overlap\n",
        "    )\n",
        "\n",
        "for name in tqdm(list_pdf):\n",
        "  if name.endswith(\".pdf\"):\n",
        "    path_tmp = os.path.join(path_docs, name)\n",
        "    loader = PyPDFLoader(path_tmp)\n",
        "    text = loader.load()\n",
        "    chunks_of_text = text_splitter.split_documents(text)\n",
        "    all_docs.extend(chunks_of_text)\n"
      ]
    },
    {
      "cell_type": "code",
      "execution_count": null,
      "metadata": {
        "colab": {
          "base_uri": "https://localhost:8080/"
        },
        "id": "e3LkJty9WuN1",
        "outputId": "fe217644-8926-498f-9af0-ede268b5fa7f"
      },
      "outputs": [
        {
          "output_type": "stream",
          "name": "stdout",
          "text": [
            "only ones the Trace can’t detect, because we don’t \n",
            "need to cast spells to use them: brooms, thestrals, \n",
            "and Hagrid’s motorbike.” Harry could see ﬂaws in this \n",
            "plan; however, he held his tongue to give Mad-Eye the \n",
            "chance to address them. “Now, your mother’s charm will \n",
            "only break under two condi- tions: when you come of \n",
            "age, or”—Moody gestured around the pristine kitchen—“you \n",
            "no longer call this place home. You and your aunt and \n",
            "uncle are going your separate ways tonight, in the \n",
            "full understanding that you’re never going to live \n",
            "together again, correct?” Harry nodded. “So this time, \n",
            "when you leave, there’ll be no going back, and the \n",
            "charm will break the moment you get outside its range. \n",
            "We’ve choosing to break it early, because the alternative \n",
            "is waiting for 47 \n",
            "{'page': 54,\n",
            " 'source': './libros/Harry Potter - Book 7 - The Deathly Hallows.pdf'}\n"
          ]
        }
      ],
      "source": [
        "from pprint import pprint\n",
        "chunk = all_docs[100]\n",
        "\n",
        "print_lines(chunk.page_content)\n",
        "\n",
        "pprint(chunk.metadata)"
      ]
    },
    {
      "cell_type": "markdown",
      "metadata": {
        "id": "aAMcUe_9ZFLl"
      },
      "source": [
        "# Database"
      ]
    },
    {
      "cell_type": "markdown",
      "metadata": {
        "id": "KghQsx_UY66k"
      },
      "source": [
        "## Embeddings"
      ]
    },
    {
      "cell_type": "code",
      "execution_count": null,
      "metadata": {
        "id": "Knt7yloZYBsk"
      },
      "outputs": [],
      "source": [
        "def get_embeddings_model(model_path=None):\n",
        "  modelPath = \"sentence-transformers/all-MiniLM-l6-v2\"\n",
        "  device = torch.device(\n",
        "      \"cuda\" if torch.cuda.is_available() else \"cpu\"\n",
        "      )\n",
        "  #device = \"cpu\"\n",
        "  if model_path:\n",
        "    modelPath = model_path\n",
        "  model_kwargs = {'device':device}\n",
        "  encode_kwargs = {'normalize_embeddings': False}\n",
        "\n",
        "  embeddings = HuggingFaceEmbeddings(\n",
        "      model_name=modelPath,     # Provide the pre-trained model's path\n",
        "      model_kwargs=model_kwargs, # Pass the model configuration options\n",
        "      encode_kwargs=encode_kwargs # Pass the encoding options\n",
        "  )\n",
        "  print(f\"device: {device}\")\n",
        "  return embeddings\n"
      ]
    },
    {
      "cell_type": "code",
      "execution_count": null,
      "metadata": {
        "colab": {
          "base_uri": "https://localhost:8080/"
        },
        "id": "w2JDBYyMZTUL",
        "outputId": "f6ae2a38-9584-4172-922e-6080d0b53ece"
      },
      "outputs": [
        {
          "output_type": "stream",
          "name": "stderr",
          "text": [
            "/usr/local/lib/python3.10/dist-packages/huggingface_hub/file_download.py:1132: FutureWarning: `resume_download` is deprecated and will be removed in version 1.0.0. Downloads always resume when possible. If you want to force a new download, use `force_download=True`.\n",
            "  warnings.warn(\n"
          ]
        },
        {
          "output_type": "stream",
          "name": "stdout",
          "text": [
            "device: cuda\n"
          ]
        }
      ],
      "source": [
        "embeddings = get_embeddings_model()"
      ]
    },
    {
      "cell_type": "code",
      "execution_count": null,
      "metadata": {
        "colab": {
          "base_uri": "https://localhost:8080/"
        },
        "id": "iZMz4hXOYnKM",
        "outputId": "266da489-4ff9-4672-e7ea-4f0b0e5f6a7b"
      },
      "outputs": [
        {
          "output_type": "execute_result",
          "data": {
            "text/plain": [
              "384"
            ]
          },
          "metadata": {},
          "execution_count": 25
        }
      ],
      "source": [
        "text = \"This is a test document.\"\n",
        "query_result = embeddings.embed_query(text)\n",
        "len(query_result)"
      ]
    },
    {
      "cell_type": "markdown",
      "metadata": {
        "id": "HSeerp7oZWOM"
      },
      "source": [
        "## Vectore Store"
      ]
    },
    {
      "cell_type": "code",
      "execution_count": null,
      "metadata": {
        "colab": {
          "base_uri": "https://localhost:8080/"
        },
        "id": "PIsLR6jWrj7E",
        "outputId": "de99dc38-6254-4649-e7bc-220c8b6abef1"
      },
      "outputs": [
        {
          "output_type": "stream",
          "name": "stdout",
          "text": [
            "8927\n"
          ]
        }
      ],
      "source": [
        "print(len(all_docs))"
      ]
    },
    {
      "cell_type": "code",
      "execution_count": null,
      "metadata": {
        "id": "5uygwlvTZTtZ"
      },
      "outputs": [],
      "source": [
        "db = FAISS.from_documents(all_docs, embeddings)"
      ]
    },
    {
      "cell_type": "code",
      "execution_count": null,
      "metadata": {
        "colab": {
          "base_uri": "https://localhost:8080/"
        },
        "id": "SUG_pwniY35r",
        "outputId": "737874d3-d5d9-4b37-987c-1925ef93cd68"
      },
      "outputs": [
        {
          "output_type": "stream",
          "name": "stdout",
          "text": [
            "CHAPTER ONE THE BOY WHO LIVED M r. and Mrs. Dursley, \n",
            "of number four, Privet Drive, were proud to say that \n",
            "they were perfectly normal, thank you very much. They \n",
            "were the last people you’d expect to be involved in \n",
            "anything strange or mysterious, because they just didn’t \n",
            "hold with such nonsense. Mr. Dursley was the director \n",
            "of a firm called Grunnings, which made drills. He was \n",
            "a big, beefy man with hardly any neck, although he \n",
            "did have a very large mustache. Mrs. Dursley was thin \n",
            "and blonde and had nearly twice the usual amount of \n",
            "neck, which came in very useful as she spent so much \n",
            "of her time craning over garden fences, spying on the \n",
            "neighbors. The Dursleys had a small son called Dudley \n",
            "and in their opinion there was no finer boy anywhere. \n",
            "The Dursleys had everything they wanted, but they also \n",
            "had a secret, and their greatest fear was that somebody \n",
            "would discover it. They didn’t think they could bear \n",
            "it if anyone found out about the Potters. Mrs. Potter \n",
            "was Mrs. \n"
          ]
        }
      ],
      "source": [
        "question = \"Who is Mr. Dursley?\"\n",
        "searchDocs = db.similarity_search(question)\n",
        "print_lines(searchDocs[0].page_content)"
      ]
    },
    {
      "cell_type": "code",
      "execution_count": null,
      "metadata": {
        "id": "_Pv94ZqGlFkj"
      },
      "outputs": [],
      "source": [
        "import re\n",
        "def get_context(db, question, top_k = 2):\n",
        "  searchDocs = db.similarity_search(question, k= top_k)\n",
        "  return re.sub(r\"\\t+\", \" \", \"\\n\".join([x.page_content for x in searchDocs]))"
      ]
    },
    {
      "cell_type": "code",
      "source": [],
      "metadata": {
        "id": "u7G_pdRQdv-A"
      },
      "execution_count": null,
      "outputs": []
    },
    {
      "cell_type": "code",
      "execution_count": null,
      "metadata": {
        "colab": {
          "base_uri": "https://localhost:8080/",
          "height": 142
        },
        "id": "fr0CgR8_l2OQ",
        "outputId": "b5c60853-5b46-4d34-d0a6-0c63be7c1863"
      },
      "outputs": [
        {
          "output_type": "execute_result",
          "data": {
            "text/plain": [
              "'“Magic?” he repeated in a whisper. \\n“That’s right,” said Dumbledore. \\n“It’s … it’s magic, what I can do?” \\n“What is it that you can do?” \\n“All sorts,” breathed Riddle. A flush of excitement was \\nrising up his neck into his hollow cheeks; he looked \\nfevered. “I can make things move without touching \\nthem. I can make animals do what I want them to do, \\nwithout training them. I can make bad things happen \\nto people who annoy me. I can make them hurt if I \\nwant to.”\\nmanage ter get yer hands on summat.”\\n Harry sat and thought about this while Hagrid read his newspaper, the\\nDaily Prophet. Harry had learned from Uncle Vernon that people liked to be left\\nalone while they did this, but it was very difficult, he’d never had so many\\nquestions in his life.\\n “Ministry o’ Magic messin’ things up as usual,” Hagrid muttered, turning\\nthe page.\\n “There’s a Ministry of Magic?” Harry asked, before he could stop\\nhimself.\\n “’Course,” said Hagrid. “They wanted Dumbledore fer Minister, o’\\ncourse, but he’d never leave Hogwarts, so old Cornelius Fudge got the job.\\nBungler if ever there was one. So he pelts Dumbledore with owls every morning,\\naskin’ fer advice.”\\n “But what does a Ministry of Magic do?”\\n “Well, their main job is to keep it from the Muggles that there’s still\\nwitches an’ wizards up an’ down the country.”\\n “Why?”\\n “Why? Blimey, Harry, everyone’d be wantin’ magic solutions to their'"
            ],
            "application/vnd.google.colaboratory.intrinsic+json": {
              "type": "string"
            }
          },
          "metadata": {},
          "execution_count": 30
        }
      ],
      "source": [
        "get_context(db, question)"
      ]
    },
    {
      "cell_type": "markdown",
      "metadata": {
        "id": "__B3xOWgcLtq"
      },
      "source": [
        "# Large Language Model (LLM)"
      ]
    },
    {
      "cell_type": "markdown",
      "metadata": {
        "id": "CkmIbcgUcPt9"
      },
      "source": [
        "## Modelo a usar"
      ]
    },
    {
      "cell_type": "code",
      "execution_count": null,
      "metadata": {
        "id": "br7VTHN6gwZI"
      },
      "outputs": [],
      "source": [
        "import torch\n",
        "from transformers import AutoModelForQuestionAnswering\n",
        "from transformers import TFAutoModelForQuestionAnswering\n",
        "models_hf = [\"deepset/minilm-uncased-squad2\"]\n",
        "model_ckpt = models_hf[0]"
      ]
    },
    {
      "cell_type": "code",
      "execution_count": null,
      "metadata": {
        "colab": {
          "base_uri": "https://localhost:8080/"
        },
        "id": "rtLwbfEQPw8b",
        "outputId": "f8cb8c50-eb46-490d-81fa-5ff65a9a3072"
      },
      "outputs": [
        {
          "output_type": "stream",
          "name": "stderr",
          "text": [
            "Some weights of the model checkpoint at deepset/minilm-uncased-squad2 were not used when initializing BertForQuestionAnswering: ['bert.pooler.dense.bias', 'bert.pooler.dense.weight']\n",
            "- This IS expected if you are initializing BertForQuestionAnswering from the checkpoint of a model trained on another task or with another architecture (e.g. initializing a BertForSequenceClassification model from a BertForPreTraining model).\n",
            "- This IS NOT expected if you are initializing BertForQuestionAnswering from the checkpoint of a model that you expect to be exactly identical (initializing a BertForSequenceClassification model from a BertForSequenceClassification model).\n"
          ]
        }
      ],
      "source": [
        "model = AutoModelForQuestionAnswering.from_pretrained(model_ckpt)\n",
        "tokenizer = AutoTokenizer.from_pretrained(model_ckpt)\n"
      ]
    },
    {
      "cell_type": "code",
      "execution_count": null,
      "metadata": {
        "colab": {
          "base_uri": "https://localhost:8080/"
        },
        "id": "m6kQVglCSLhQ",
        "outputId": "c0758a0e-a2d7-4d48-a482-c93b2653510c"
      },
      "outputs": [
        {
          "output_type": "stream",
          "name": "stderr",
          "text": [
            "/usr/local/lib/python3.10/dist-packages/transformers/pipelines/question_answering.py:326: UserWarning: topk parameter is deprecated, use top_k instead\n",
            "  warnings.warn(\"topk parameter is deprecated, use top_k instead\", UserWarning)\n"
          ]
        },
        {
          "output_type": "execute_result",
          "data": {
            "text/plain": [
              "[{'score': 0.3200392425060272,\n",
              "  'start': 318,\n",
              "  'end': 357,\n",
              "  'answer': 'the director of a firm called Grunnings'},\n",
              " {'score': 0.13510459661483765,\n",
              "  'start': 322,\n",
              "  'end': 357,\n",
              "  'answer': 'director of a firm called Grunnings'},\n",
              " {'score': 0.059819769114255905,\n",
              "  'start': 318,\n",
              "  'end': 376,\n",
              "  'answer': 'the director of a firm called Grunnings, which made\\ndrills'}]"
            ]
          },
          "metadata": {},
          "execution_count": 36
        }
      ],
      "source": [
        "question = \"Who is Mr. Dursley?\"\n",
        "context = get_context(db, question)\n",
        "inputs = tokenizer(question, context, return_tensors=\"pt\")\n",
        "pipe = pipeline(\"question-answering\", model=model, tokenizer=tokenizer)\n",
        "pipe(question=question, context=context, topk=3)"
      ]
    }
  ],
  "metadata": {
    "accelerator": "GPU",
    "colab": {
      "provenance": [],
      "gpuType": "T4",
      "include_colab_link": true
    },
    "kernelspec": {
      "display_name": "Python 3",
      "name": "python3"
    },
    "language_info": {
      "name": "python"
    },
    "widgets": {
      "application/vnd.jupyter.widget-state+json": {
        "d5a047a68f844a9dac7b9bacba1f780d": {
          "model_module": "@jupyter-widgets/controls",
          "model_name": "HBoxModel",
          "model_module_version": "1.5.0",
          "state": {
            "_dom_classes": [],
            "_model_module": "@jupyter-widgets/controls",
            "_model_module_version": "1.5.0",
            "_model_name": "HBoxModel",
            "_view_count": null,
            "_view_module": "@jupyter-widgets/controls",
            "_view_module_version": "1.5.0",
            "_view_name": "HBoxView",
            "box_style": "",
            "children": [
              "IPY_MODEL_6cb61235e07544448bad8afa603af790",
              "IPY_MODEL_ad55e939712d4fa9a4cb138e87a62384",
              "IPY_MODEL_de5eddf5eb6a4d66a101f59286733ba8"
            ],
            "layout": "IPY_MODEL_5fb1b8a89bde4035a8de7fe86301d5fe"
          }
        },
        "6cb61235e07544448bad8afa603af790": {
          "model_module": "@jupyter-widgets/controls",
          "model_name": "HTMLModel",
          "model_module_version": "1.5.0",
          "state": {
            "_dom_classes": [],
            "_model_module": "@jupyter-widgets/controls",
            "_model_module_version": "1.5.0",
            "_model_name": "HTMLModel",
            "_view_count": null,
            "_view_module": "@jupyter-widgets/controls",
            "_view_module_version": "1.5.0",
            "_view_name": "HTMLView",
            "description": "",
            "description_tooltip": null,
            "layout": "IPY_MODEL_0f96a2abcb79452c92ef9cc19705a454",
            "placeholder": "​",
            "style": "IPY_MODEL_7ceacded3621435494743166010085f6",
            "value": "100%"
          }
        },
        "ad55e939712d4fa9a4cb138e87a62384": {
          "model_module": "@jupyter-widgets/controls",
          "model_name": "FloatProgressModel",
          "model_module_version": "1.5.0",
          "state": {
            "_dom_classes": [],
            "_model_module": "@jupyter-widgets/controls",
            "_model_module_version": "1.5.0",
            "_model_name": "FloatProgressModel",
            "_view_count": null,
            "_view_module": "@jupyter-widgets/controls",
            "_view_module_version": "1.5.0",
            "_view_name": "ProgressView",
            "bar_style": "success",
            "description": "",
            "description_tooltip": null,
            "layout": "IPY_MODEL_e0560e46f807409d935dd4fb53421cc1",
            "max": 7,
            "min": 0,
            "orientation": "horizontal",
            "style": "IPY_MODEL_495eda8bbc6d4a11a3f81861a29d1157",
            "value": 7
          }
        },
        "de5eddf5eb6a4d66a101f59286733ba8": {
          "model_module": "@jupyter-widgets/controls",
          "model_name": "HTMLModel",
          "model_module_version": "1.5.0",
          "state": {
            "_dom_classes": [],
            "_model_module": "@jupyter-widgets/controls",
            "_model_module_version": "1.5.0",
            "_model_name": "HTMLModel",
            "_view_count": null,
            "_view_module": "@jupyter-widgets/controls",
            "_view_module_version": "1.5.0",
            "_view_name": "HTMLView",
            "description": "",
            "description_tooltip": null,
            "layout": "IPY_MODEL_9679e7a1a2f9420c88a1908c4c47dcd2",
            "placeholder": "​",
            "style": "IPY_MODEL_1add3b1e98e2441492bf997080167a5a",
            "value": " 7/7 [01:23&lt;00:00, 10.78s/it]"
          }
        },
        "5fb1b8a89bde4035a8de7fe86301d5fe": {
          "model_module": "@jupyter-widgets/base",
          "model_name": "LayoutModel",
          "model_module_version": "1.2.0",
          "state": {
            "_model_module": "@jupyter-widgets/base",
            "_model_module_version": "1.2.0",
            "_model_name": "LayoutModel",
            "_view_count": null,
            "_view_module": "@jupyter-widgets/base",
            "_view_module_version": "1.2.0",
            "_view_name": "LayoutView",
            "align_content": null,
            "align_items": null,
            "align_self": null,
            "border": null,
            "bottom": null,
            "display": null,
            "flex": null,
            "flex_flow": null,
            "grid_area": null,
            "grid_auto_columns": null,
            "grid_auto_flow": null,
            "grid_auto_rows": null,
            "grid_column": null,
            "grid_gap": null,
            "grid_row": null,
            "grid_template_areas": null,
            "grid_template_columns": null,
            "grid_template_rows": null,
            "height": null,
            "justify_content": null,
            "justify_items": null,
            "left": null,
            "margin": null,
            "max_height": null,
            "max_width": null,
            "min_height": null,
            "min_width": null,
            "object_fit": null,
            "object_position": null,
            "order": null,
            "overflow": null,
            "overflow_x": null,
            "overflow_y": null,
            "padding": null,
            "right": null,
            "top": null,
            "visibility": null,
            "width": null
          }
        },
        "0f96a2abcb79452c92ef9cc19705a454": {
          "model_module": "@jupyter-widgets/base",
          "model_name": "LayoutModel",
          "model_module_version": "1.2.0",
          "state": {
            "_model_module": "@jupyter-widgets/base",
            "_model_module_version": "1.2.0",
            "_model_name": "LayoutModel",
            "_view_count": null,
            "_view_module": "@jupyter-widgets/base",
            "_view_module_version": "1.2.0",
            "_view_name": "LayoutView",
            "align_content": null,
            "align_items": null,
            "align_self": null,
            "border": null,
            "bottom": null,
            "display": null,
            "flex": null,
            "flex_flow": null,
            "grid_area": null,
            "grid_auto_columns": null,
            "grid_auto_flow": null,
            "grid_auto_rows": null,
            "grid_column": null,
            "grid_gap": null,
            "grid_row": null,
            "grid_template_areas": null,
            "grid_template_columns": null,
            "grid_template_rows": null,
            "height": null,
            "justify_content": null,
            "justify_items": null,
            "left": null,
            "margin": null,
            "max_height": null,
            "max_width": null,
            "min_height": null,
            "min_width": null,
            "object_fit": null,
            "object_position": null,
            "order": null,
            "overflow": null,
            "overflow_x": null,
            "overflow_y": null,
            "padding": null,
            "right": null,
            "top": null,
            "visibility": null,
            "width": null
          }
        },
        "7ceacded3621435494743166010085f6": {
          "model_module": "@jupyter-widgets/controls",
          "model_name": "DescriptionStyleModel",
          "model_module_version": "1.5.0",
          "state": {
            "_model_module": "@jupyter-widgets/controls",
            "_model_module_version": "1.5.0",
            "_model_name": "DescriptionStyleModel",
            "_view_count": null,
            "_view_module": "@jupyter-widgets/base",
            "_view_module_version": "1.2.0",
            "_view_name": "StyleView",
            "description_width": ""
          }
        },
        "e0560e46f807409d935dd4fb53421cc1": {
          "model_module": "@jupyter-widgets/base",
          "model_name": "LayoutModel",
          "model_module_version": "1.2.0",
          "state": {
            "_model_module": "@jupyter-widgets/base",
            "_model_module_version": "1.2.0",
            "_model_name": "LayoutModel",
            "_view_count": null,
            "_view_module": "@jupyter-widgets/base",
            "_view_module_version": "1.2.0",
            "_view_name": "LayoutView",
            "align_content": null,
            "align_items": null,
            "align_self": null,
            "border": null,
            "bottom": null,
            "display": null,
            "flex": null,
            "flex_flow": null,
            "grid_area": null,
            "grid_auto_columns": null,
            "grid_auto_flow": null,
            "grid_auto_rows": null,
            "grid_column": null,
            "grid_gap": null,
            "grid_row": null,
            "grid_template_areas": null,
            "grid_template_columns": null,
            "grid_template_rows": null,
            "height": null,
            "justify_content": null,
            "justify_items": null,
            "left": null,
            "margin": null,
            "max_height": null,
            "max_width": null,
            "min_height": null,
            "min_width": null,
            "object_fit": null,
            "object_position": null,
            "order": null,
            "overflow": null,
            "overflow_x": null,
            "overflow_y": null,
            "padding": null,
            "right": null,
            "top": null,
            "visibility": null,
            "width": null
          }
        },
        "495eda8bbc6d4a11a3f81861a29d1157": {
          "model_module": "@jupyter-widgets/controls",
          "model_name": "ProgressStyleModel",
          "model_module_version": "1.5.0",
          "state": {
            "_model_module": "@jupyter-widgets/controls",
            "_model_module_version": "1.5.0",
            "_model_name": "ProgressStyleModel",
            "_view_count": null,
            "_view_module": "@jupyter-widgets/base",
            "_view_module_version": "1.2.0",
            "_view_name": "StyleView",
            "bar_color": null,
            "description_width": ""
          }
        },
        "9679e7a1a2f9420c88a1908c4c47dcd2": {
          "model_module": "@jupyter-widgets/base",
          "model_name": "LayoutModel",
          "model_module_version": "1.2.0",
          "state": {
            "_model_module": "@jupyter-widgets/base",
            "_model_module_version": "1.2.0",
            "_model_name": "LayoutModel",
            "_view_count": null,
            "_view_module": "@jupyter-widgets/base",
            "_view_module_version": "1.2.0",
            "_view_name": "LayoutView",
            "align_content": null,
            "align_items": null,
            "align_self": null,
            "border": null,
            "bottom": null,
            "display": null,
            "flex": null,
            "flex_flow": null,
            "grid_area": null,
            "grid_auto_columns": null,
            "grid_auto_flow": null,
            "grid_auto_rows": null,
            "grid_column": null,
            "grid_gap": null,
            "grid_row": null,
            "grid_template_areas": null,
            "grid_template_columns": null,
            "grid_template_rows": null,
            "height": null,
            "justify_content": null,
            "justify_items": null,
            "left": null,
            "margin": null,
            "max_height": null,
            "max_width": null,
            "min_height": null,
            "min_width": null,
            "object_fit": null,
            "object_position": null,
            "order": null,
            "overflow": null,
            "overflow_x": null,
            "overflow_y": null,
            "padding": null,
            "right": null,
            "top": null,
            "visibility": null,
            "width": null
          }
        },
        "1add3b1e98e2441492bf997080167a5a": {
          "model_module": "@jupyter-widgets/controls",
          "model_name": "DescriptionStyleModel",
          "model_module_version": "1.5.0",
          "state": {
            "_model_module": "@jupyter-widgets/controls",
            "_model_module_version": "1.5.0",
            "_model_name": "DescriptionStyleModel",
            "_view_count": null,
            "_view_module": "@jupyter-widgets/base",
            "_view_module_version": "1.2.0",
            "_view_name": "StyleView",
            "description_width": ""
          }
        }
      }
    }
  },
  "nbformat": 4,
  "nbformat_minor": 0
}