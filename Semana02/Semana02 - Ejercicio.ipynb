{
  "cells": [
    {
      "cell_type": "markdown",
      "metadata": {
        "id": "s8rVHzjlKQc_"
      },
      "source": [
        "# Preprocesamiento de Datos - Ejemplo Práctico"
      ]
    },
    {
      "cell_type": "markdown",
      "metadata": {
        "id": "QnEMEIWNKQdC"
      },
      "source": [
        "En esta demostración se preprocesará un conjunto de datos de población estadounidense. Los datos utilizados son un subconjunto modificado de [este set de datos](https://archive.ics.uci.edu/ml/datasets/Adult) y se encuentran en el archivo `census.csv`."
      ]
    },
    {
      "cell_type": "code",
      "execution_count": 1,
      "metadata": {
        "colab": {
          "base_uri": "https://localhost:8080/"
        },
        "id": "JIKkmUyEKcqq",
        "outputId": "2615e3e1-6354-4a81-d0f0-cf179f44fd92"
      },
      "outputs": [
        {
          "name": "stdout",
          "output_type": "stream",
          "text": [
            "Mounted at /content/drive\n"
          ]
        }
      ],
      "source": [
        "from google.colab import drive\n",
        "drive.mount('/content/drive')"
      ]
    },
    {
      "cell_type": "code",
      "execution_count": 2,
      "metadata": {
        "colab": {
          "base_uri": "https://localhost:8080/"
        },
        "id": "ygNh2b33Ka7_",
        "outputId": "084a6221-03d0-45d5-ebf0-150d57d6fe9a"
      },
      "outputs": [
        {
          "name": "stdout",
          "output_type": "stream",
          "text": [
            "/content/drive/MyDrive/Courses/ML2022/M02/Code\n"
          ]
        }
      ],
      "source": [
        "cd '/content/drive/MyDrive/Courses/ML2022/M02/Code'"
      ]
    },
    {
      "cell_type": "code",
      "execution_count": null,
      "metadata": {
        "id": "yc1OaWNSKQdC"
      },
      "outputs": [],
      "source": [
        "import pandas as pd"
      ]
    },
    {
      "cell_type": "code",
      "execution_count": null,
      "metadata": {
        "id": "TVugcGmeKQdD"
      },
      "outputs": [],
      "source": [
        "# Importemos los datos:\n",
        "df = pd.read_csv('census.csv')\n"
      ]
    },
    {
      "cell_type": "code",
      "execution_count": null,
      "metadata": {
        "id": "nhDjnE2VKQdE"
      },
      "outputs": [],
      "source": [
        "# Veamos el dataset:\n"
      ]
    },
    {
      "cell_type": "code",
      "execution_count": null,
      "metadata": {
        "id": "TtkP_GdhKQdF"
      },
      "outputs": [],
      "source": [
        "# Descripción de las columnas:\n"
      ]
    },
    {
      "cell_type": "code",
      "execution_count": null,
      "metadata": {
        "id": "F52oYL-0KQdF"
      },
      "outputs": [],
      "source": [
        "# Verifiquemos si hay datos faltantes:\n"
      ]
    },
    {
      "cell_type": "code",
      "execution_count": null,
      "metadata": {
        "id": "oELVryAFKQdG"
      },
      "outputs": [],
      "source": [
        "# Descartemos las filas que tengan 3 o más datos faltantes:\n"
      ]
    },
    {
      "cell_type": "code",
      "execution_count": null,
      "metadata": {
        "id": "hdtT5hChKQdG"
      },
      "outputs": [],
      "source": [
        "# Contemos de nuevo los datos faltantes:\n"
      ]
    },
    {
      "cell_type": "code",
      "execution_count": null,
      "metadata": {
        "id": "jMjy5fXPKQdH"
      },
      "outputs": [],
      "source": [
        "# Imputemos los datos faltantes de edad y horas trabajadas por semana con la mediana de cada una de esas columnas:\n"
      ]
    },
    {
      "cell_type": "code",
      "execution_count": null,
      "metadata": {
        "id": "bGI3JuDxKQdH"
      },
      "outputs": [],
      "source": [
        "# Contemos de nuevo los datos faltantes:\n"
      ]
    },
    {
      "cell_type": "code",
      "execution_count": null,
      "metadata": {
        "id": "r-igPzINKQdI"
      },
      "outputs": [],
      "source": [
        "# Apliquemos one-hot encoding a la columna \"workclass\":\n"
      ]
    },
    {
      "cell_type": "code",
      "execution_count": null,
      "metadata": {
        "id": "pCHO1YHhKQdI"
      },
      "outputs": [],
      "source": [
        "# Hallemos los valores que toma la columna \"education\":\n"
      ]
    },
    {
      "cell_type": "code",
      "execution_count": null,
      "metadata": {
        "id": "e1M_SL3oKQdI"
      },
      "outputs": [],
      "source": [
        "# Apliquemos ordinal encoding a la columna \"education\":\n"
      ]
    },
    {
      "cell_type": "code",
      "execution_count": null,
      "metadata": {
        "id": "7yir-A1FKQdJ"
      },
      "outputs": [],
      "source": [
        "# Verifiquemos que la columna \"education\" tenga los valores apropiados:\n"
      ]
    },
    {
      "cell_type": "code",
      "execution_count": null,
      "metadata": {
        "id": "1a5IeYUfKQdJ"
      },
      "outputs": [],
      "source": [
        "# Apliquemos one-hot encoding a la columna \"race\":\n"
      ]
    },
    {
      "cell_type": "code",
      "execution_count": null,
      "metadata": {
        "id": "U_gDOpMQKQdJ"
      },
      "outputs": [],
      "source": [
        "# Apliquemos binary encoding a la columna \"sex\":\n"
      ]
    },
    {
      "cell_type": "code",
      "execution_count": null,
      "metadata": {
        "id": "lTqxp3fZKQdK"
      },
      "outputs": [],
      "source": [
        "# Apliquemos binary encoding a la etiqueta:\n"
      ]
    },
    {
      "cell_type": "code",
      "execution_count": null,
      "metadata": {
        "id": "sMRU3qrKKQdK"
      },
      "outputs": [],
      "source": [
        "# Veamos el dataset resultante:\n"
      ]
    },
    {
      "cell_type": "code",
      "execution_count": null,
      "metadata": {
        "id": "ObK6H67oKQdK"
      },
      "outputs": [],
      "source": [
        "# Veamos la nueva descripción del dataset:\n"
      ]
    },
    {
      "cell_type": "code",
      "execution_count": null,
      "metadata": {
        "id": "h0HVzXlGKQdL"
      },
      "outputs": [],
      "source": [
        "# Verifiquemos el tipo de dato de cada columna:\n"
      ]
    },
    {
      "cell_type": "code",
      "execution_count": null,
      "metadata": {
        "id": "06yo3fUBKQdL"
      },
      "outputs": [],
      "source": [
        "# Carguemos el dataset a un nuevo archivo:\n"
      ]
    }
  ],
  "metadata": {
    "colab": {
      "provenance": []
    },
    "kernelspec": {
      "display_name": "Python [conda env:root]",
      "language": "python",
      "name": "conda-root-py"
    },
    "language_info": {
      "codemirror_mode": {
        "name": "ipython",
        "version": 3
      },
      "file_extension": ".py",
      "mimetype": "text/x-python",
      "name": "python",
      "nbconvert_exporter": "python",
      "pygments_lexer": "ipython3",
      "version": "3.8.8"
    },
    "notify_time": "5",
    "varInspector": {
      "cols": {
        "lenName": 16,
        "lenType": 16,
        "lenVar": 40
      },
      "kernels_config": {
        "python": {
          "delete_cmd_postfix": "",
          "delete_cmd_prefix": "del ",
          "library": "var_list.py",
          "varRefreshCmd": "print(var_dic_list())"
        },
        "r": {
          "delete_cmd_postfix": ") ",
          "delete_cmd_prefix": "rm(",
          "library": "var_list.r",
          "varRefreshCmd": "cat(var_dic_list()) "
        }
      },
      "types_to_exclude": [
        "module",
        "function",
        "builtin_function_or_method",
        "instance",
        "_Feature"
      ],
      "window_display": false
    }
  },
  "nbformat": 4,
  "nbformat_minor": 0
}
